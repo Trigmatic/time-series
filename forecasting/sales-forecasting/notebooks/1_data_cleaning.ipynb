{
 "cells": [
  {
   "cell_type": "markdown",
   "id": "84ad26fe-ef2a-445a-8d35-110ba58f0f2f",
   "metadata": {},
   "source": [
    "# Data Cleaning"
   ]
  },
  {
   "cell_type": "code",
   "execution_count": 1,
   "id": "c9c3094a-8344-4f19-b707-4d13b9d20eab",
   "metadata": {},
   "outputs": [],
   "source": [
    "%matplotlib inline\n",
    "\n",
    "# data manipulation\n",
    "import pandas as pd\n",
    "import numpy as np"
   ]
  },
  {
   "cell_type": "code",
   "execution_count": 2,
   "id": "c2476dd3-4efd-487e-9157-4bb44a1e762d",
   "metadata": {},
   "outputs": [],
   "source": [
    "data = {'date': ['2015-01-01', '2015-02-01', '2015-03-01', '2015-04-01',\n",
    "               '2015-05-01', '2015-06-01', '2015-07-01', '2015-08-01',\n",
    "               '2015-09-01', '2015-10-01', '2015-11-01', '2015-12-01',\n",
    "               '2016-01-01', '2016-02-01', '2016-03-01', '2016-04-01',\n",
    "               '2016-05-01', '2016-06-01', '2016-07-01', '2016-08-01',\n",
    "               '2016-09-01', '2016-10-01', '2016-11-01', '2016-12-01',\n",
    "               '2017-01-01', '2017-02-01', '2017-03-01', '2017-04-01',\n",
    "               '2017-05-01', '2017-06-01', '2017-07-01', '2017-08-01',\n",
    "               '2017-09-01', '2017-10-01', '2017-11-01', '2017-12-01',\n",
    "               '2018-01-01', '2018-02-01', '2018-03-01', '2018-04-01',\n",
    "               '2018-05-01', '2018-06-01', '2018-07-01', '2018-08-01',\n",
    "               '2018-09-01', '2018-10-01', '2018-11-01', '2018-12-01',\n",
    "               '2019-01-01', '2019-02-01', '2019-03-01', '2019-04-01',\n",
    "               '2019-05-01', '2019-06-01', '2019-07-01', '2019-08-01',\n",
    "               '2019-09-01', '2019-10-01', '2019-11-01', '2019-12-01',\n",
    "               '2020-01-01', '2020-02-01', '2020-03-01', '2020-04-01',\n",
    "               '2020-05-01', '2020-06-01', '2020-07-01', '2020-08-01',\n",
    "               '2020-09-01', '2020-10-01', '2020-11-01', '2020-12-01',\n",
    "               '2021-01-01', '2021-02-01', '2021-03-01', '2021-04-01',\n",
    "               '2021-05-01', '2021-06-01', '2021-07-01', '2021-08-01',\n",
    "               '2021-09-01', '2021-10-01', '2021-11-01', '2021-12-01'\n",
    "                ],\n",
    "        'sales': [154, 96, 73, 49, 36, 59, 95, 169, 210, 278, 298, 245,\n",
    "                  200, 118, 90, 79, 78, 91, 167, 169, 289, 347, 375, 203,\n",
    "                  223, 104, 107, 85, 75, 99, 135, 211, 335, 460, 488, 326,\n",
    "                  346, 261, 224, 141, 148, 145, 223, 272, 445, 560, 612, 467,\n",
    "                  518, 404, 300, 210, 196, 186, 247, 343, 464, 680, 711, 610,\n",
    "                  613, 392, 273, 322, 189, 257, 324, 404, 677, 858, 895, 664,\n",
    "                  628, 308, 324, 248, 272, np.nan, np.nan, np.nan, np.nan, np.nan, np.nan, np.nan\n",
    "                 ]\n",
    "       }   "
   ]
  },
  {
   "cell_type": "code",
   "execution_count": 3,
   "id": "d1aebc9f-89c1-489b-8a19-40ad1436dadd",
   "metadata": {},
   "outputs": [],
   "source": [
    "df = pd.DataFrame(data)\n",
    "df.date = pd.to_datetime(df['date'])  # convert to datetime"
   ]
  },
  {
   "cell_type": "code",
   "execution_count": 4,
   "id": "6b8b3fff-7d7f-4701-9450-5eacd1a69b5d",
   "metadata": {},
   "outputs": [
    {
     "data": {
      "text/html": [
       "<div>\n",
       "<style scoped>\n",
       "    .dataframe tbody tr th:only-of-type {\n",
       "        vertical-align: middle;\n",
       "    }\n",
       "\n",
       "    .dataframe tbody tr th {\n",
       "        vertical-align: top;\n",
       "    }\n",
       "\n",
       "    .dataframe thead th {\n",
       "        text-align: right;\n",
       "    }\n",
       "</style>\n",
       "<table border=\"1\" class=\"dataframe\">\n",
       "  <thead>\n",
       "    <tr style=\"text-align: right;\">\n",
       "      <th></th>\n",
       "      <th>date</th>\n",
       "      <th>sales</th>\n",
       "    </tr>\n",
       "  </thead>\n",
       "  <tbody>\n",
       "    <tr>\n",
       "      <th>0</th>\n",
       "      <td>2015-01-01</td>\n",
       "      <td>154.0</td>\n",
       "    </tr>\n",
       "    <tr>\n",
       "      <th>1</th>\n",
       "      <td>2015-02-01</td>\n",
       "      <td>96.0</td>\n",
       "    </tr>\n",
       "    <tr>\n",
       "      <th>2</th>\n",
       "      <td>2015-03-01</td>\n",
       "      <td>73.0</td>\n",
       "    </tr>\n",
       "    <tr>\n",
       "      <th>3</th>\n",
       "      <td>2015-04-01</td>\n",
       "      <td>49.0</td>\n",
       "    </tr>\n",
       "    <tr>\n",
       "      <th>4</th>\n",
       "      <td>2015-05-01</td>\n",
       "      <td>36.0</td>\n",
       "    </tr>\n",
       "  </tbody>\n",
       "</table>\n",
       "</div>"
      ],
      "text/plain": [
       "        date  sales\n",
       "0 2015-01-01  154.0\n",
       "1 2015-02-01   96.0\n",
       "2 2015-03-01   73.0\n",
       "3 2015-04-01   49.0\n",
       "4 2015-05-01   36.0"
      ]
     },
     "execution_count": 4,
     "metadata": {},
     "output_type": "execute_result"
    }
   ],
   "source": [
    "df.head()"
   ]
  },
  {
   "cell_type": "code",
   "execution_count": 5,
   "id": "d017e75b-4ac9-4ea8-a0ce-bb62f011a1e2",
   "metadata": {},
   "outputs": [],
   "source": [
    "df['year'] = pd.DatetimeIndex(df['date']).year\n",
    "df['month'] = pd.DatetimeIndex(df['date']).month"
   ]
  },
  {
   "cell_type": "code",
   "execution_count": 6,
   "id": "c1354284-ef5b-4fd9-8a57-757abd46de1b",
   "metadata": {},
   "outputs": [],
   "source": [
    "df.to_csv('../data/ts_data.csv', index = False)"
   ]
  }
 ],
 "metadata": {
  "kernelspec": {
   "display_name": "Python 3",
   "language": "python",
   "name": "python3"
  },
  "language_info": {
   "codemirror_mode": {
    "name": "ipython",
    "version": 3
   },
   "file_extension": ".py",
   "mimetype": "text/x-python",
   "name": "python",
   "nbconvert_exporter": "python",
   "pygments_lexer": "ipython3",
   "version": "3.9.4"
  }
 },
 "nbformat": 4,
 "nbformat_minor": 5
}
